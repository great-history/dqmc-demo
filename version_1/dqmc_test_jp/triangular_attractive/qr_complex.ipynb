{
 "cells": [
  {
   "cell_type": "code",
   "execution_count": 1,
   "id": "acffb9c6",
   "metadata": {},
   "outputs": [
    {
     "ename": "LoadError",
     "evalue": "LoadError: UndefVarError: @turbo not defined\nin expression starting at In[1]:4",
     "output_type": "error",
     "traceback": [
      "LoadError: UndefVarError: @turbo not defined\nin expression starting at In[1]:4",
      "",
      "Stacktrace:",
      " [1] top-level scope",
      "   @ :0",
      " [2] eval",
      "   @ .\\boot.jl:373 [inlined]",
      " [3] include_string(mapexpr::typeof(REPL.softscope), mod::Module, code::String, filename::String)",
      "   @ Base .\\loading.jl:1196"
     ]
    }
   ],
   "source": [
    "function qr_real_pivot!(U::Matrix{ComplexF64}, input::Matrix{ComplexF64}, squared_norms::Vector{Float64}, pivot::Vector{Int64}, \n",
    "        n::Int64 = size(input,1))\n",
    "    @inbounds begin\n",
    "        @turbo for i = 1:n\n",
    "            pivot[i] = i\n",
    "        end\n",
    "    \n",
    "        # 对n个k维矢量进行排序 与 householder 交叉进行        \n",
    "        # 找到第1个向量\n",
    "        current_index = 1\n",
    "        tmp_pos = 0\n",
    "\n",
    "        max_norm2 = 0.0\n",
    "        tmp_norm2 = 0.0\n",
    "        find_max_column!(input, squared_norms, pivot, tmp_norm2, max_norm2, current_index, tmp_pos, n)\n",
    "        squared_norms[1] = house_holder!(input, squared_norms[1], tmp_norm2, max_norm2, 1, n)\n",
    "        # 找第2到n-1个向量\n",
    "        for i in 2:n-1\n",
    "            max_norm2 = 0.0\n",
    "            current_index = i\n",
    "            \n",
    "            find_max_column!(input, squared_norms, pivot, tmp_norm2, max_norm2, current_index, tmp_pos, n, i)\n",
    "            squared_norms[i] = house_holder!(input, squared_norms[i], tmp_norm2, max_norm2, i, n)\n",
    "        end\n",
    "\n",
    "        # 接下来开始寻找幺正矩阵U\n",
    "        copyto!(U, I)\n",
    "\n",
    "        tmp_norm2 = input[n,n]\n",
    "        input[n,n] = sign(tmp_norm2)\n",
    "        squared_norms[n] = abs(tmp_norm2)\n",
    "        \n",
    "        for k = (n-1):-1:1\n",
    "            tmp_norm2 = squared_norms[k]\n",
    "            get_unitary!(input, U, max_norm2, tmp_norm2, k, n)\n",
    "            \n",
    "            # TODO::也许可以把这个去掉,只要我们心中知道它是零即可\n",
    "            # @turbo for i in (k+1):n\n",
    "            #     input[i,k] = 0.0\n",
    "            # end\n",
    "\n",
    "            tmp_norm2 = input[k,k]\n",
    "            input[k,k] = sign(tmp_norm2)\n",
    "            tmp_norm2 = abs(tmp_norm2)\n",
    "            squared_norms[k] = tmp_norm2\n",
    "            tmp_norm2 = 1 / tmp_norm2\n",
    "\n",
    "            @turbo for j in k+1:n\n",
    "                input[k,j] *= tmp_norm2\n",
    "            end\n",
    "            \n",
    "        end\n",
    "        nothing\n",
    "    end\n",
    "end\n",
    "\n",
    "\n",
    "\n",
    "function find_max_column!(input::Matrix{ComplexF64}, squared_norms::Vector{Float64}, pivot::Vector{Int64}, tmp_norm2::Float64, max_norm2::Float64, current_index::Int, tmp_pos::Int, n::Int) # true 代表就是对第一个向量\n",
    "    for i in 1:n\n",
    "        @turbo for j = 1:n\n",
    "            tmp_norm2 += abs2(input[j,i])\n",
    "        end\n",
    "        \n",
    "        squared_norms[i] = tmp_norm2\n",
    "        if tmp_norm2 > max_norm2\n",
    "            max_norm2 = tmp_norm2\n",
    "            current_index = i\n",
    "        end\n",
    "        tmp_norm2 = 0.0\n",
    "    end\n",
    "    \n",
    "    if current_index != 1\n",
    "        pivot[1] = pivot[current_index]\n",
    "        pivot[current_index] = 1\n",
    "        \n",
    "        ## 下面这样会比较慢, 建议用@turbo来进行加速\n",
    "        # vector_tmp = input[:, current_index]\n",
    "        # input[:, current_index] = input[:, 1]\n",
    "        # input[:, 1] = vector_tmp\n",
    "        @turbo for j in 1:n\n",
    "            tmp_norm2 = input[j, current_index]\n",
    "            input[j, current_index] = input[j, 1]\n",
    "            input[j, 1] = tmp_norm2\n",
    "        end\n",
    "        squared_norms[current_index] = squared_norms[1]\n",
    "    end\n",
    "    squared_norms[1] = sqrt(max_norm2)\n",
    "    nothing\n",
    "end\n",
    "\n",
    "\n",
    "@inline function get_unitary!(input::Matrix{Float64}, U_test::Matrix{Float64}, max_norm2::Float64, tmp_norm2::Float64, k::Int, n::Int)\n",
    "    # tmp_norm2::存放β\n",
    "    ## 首先计算U[k:n,k]\n",
    "    ## 然后计算U[k, (k+1):n]\n",
    "    ## 这两个for-loop放在一起\n",
    "    U_test[k,k] -= tmp_norm2\n",
    "    @turbo for i in (k+1):n ## TODO::修改一下@turbo看看有没有加速\n",
    "        max_norm2 = -(input[i,k] * tmp_norm2)\n",
    "        U_test[i,k] += max_norm2\n",
    "        for j in (k+1):n\n",
    "            U_test[k,j] += max_norm2 * U_test[i, j]\n",
    "        end\n",
    "    end\n",
    "    \n",
    "    # @turbo for i in (k+1):n\n",
    "    #     tmp_norm2 = input[i,k]\n",
    "    #     input[i,k] -= tmp_norm2\n",
    "    #     for j in (k+1):n\n",
    "    #         U_test[i,j] += tmp_norm2 * U_test[k,j]  # 是用+号而不是用-号\n",
    "    #     end\n",
    "    # end\n",
    "\n",
    "    @turbo for i in (k+1):n ## TODO::修改一下@turbo看看有没有加速  22/116\n",
    "        for j in (k+1):n\n",
    "            U_test[i,j] += input[i,k] * U_test[k,j]  # 是用+号而不是用-号  ## TODO::修改一下这个loop\n",
    "        end\n",
    "    end\n",
    "\n",
    "    ## 注意: 下面这种@turbo算出来的结果是错误的，可能跟@turbo的用法有关\n",
    "    # @turbo for i in (k+1):n\n",
    "    #     for j in (k+1):n\n",
    "    #         U_test[i,j] += input[i,k] * U_test[k,j]  # 是用+号而不是用-号\n",
    "    #     end\n",
    "    #     input[i,k] = 0.0\n",
    "    # end\n",
    "\n",
    "end"
   ]
  },
  {
   "cell_type": "code",
   "execution_count": 6,
   "id": "e87710b8",
   "metadata": {},
   "outputs": [
    {
     "data": {
      "text/plain": [
       "1 + 2im"
      ]
     },
     "execution_count": 6,
     "metadata": {},
     "output_type": "execute_result"
    }
   ],
   "source": [
    "(1 + 2im)*(2 - 3im)\n",
    "real(1 + 2im)\n",
    "imag(1 + 2im)\n",
    "conj(1 + 2im)\n",
    "abs(1 + 2im)\n",
    "abs2(1 + 2im)\n",
    "angle(1 + 2im)\n",
    "a = 1; b = 2; complex(a, b)"
   ]
  },
  {
   "cell_type": "code",
   "execution_count": 8,
   "id": "155ec066",
   "metadata": {
    "scrolled": false
   },
   "outputs": [
    {
     "data": {
      "text/plain": [
       "10×10 Matrix{ComplexF64}:\n",
       "  0.309886+0.163234im   0.387371+0.00968791im  …  0.453449+0.303233im\n",
       "  0.775472+0.017508im    0.65161+0.568593im       0.751475+0.155021im\n",
       "  0.645202+0.0965552im  0.609173+0.1365im         0.162038+0.220783im\n",
       "  0.635724+0.156963im   0.570216+0.239083im       0.720395+0.461146im\n",
       "  0.156169+0.612721im    0.87254+0.969302im       0.383749+0.44182im\n",
       "  0.577467+0.845548im   0.275585+0.876439im    …  0.818506+0.0050653im\n",
       "  0.954373+0.997168im   0.672916+0.475954im       0.703302+0.817211im\n",
       " 0.0691908+0.957491im   0.876375+0.218943im       0.816007+0.901338im\n",
       "  0.293601+0.0282106im  0.734233+0.279864im       0.517847+0.449874im\n",
       "   0.20586+0.804822im   0.630779+0.99723im        0.179158+0.0984252im"
      ]
     },
     "execution_count": 8,
     "metadata": {},
     "output_type": "execute_result"
    }
   ],
   "source": [
    "A = rand(ComplexF64, 10,10)"
   ]
  },
  {
   "cell_type": "code",
   "execution_count": 9,
   "id": "4ec1ee46",
   "metadata": {
    "scrolled": true
   },
   "outputs": [
    {
     "data": {
      "text/plain": [
       "10×10 Matrix{ComplexF64}:\n",
       " 0.0+0.0im  0.0+0.0im  0.0+0.0im  …  0.0+0.0im  0.0+0.0im  0.0+0.0im\n",
       " 0.0+0.0im  0.0+0.0im  0.0+0.0im     0.0+0.0im  0.0+0.0im  0.0+0.0im\n",
       " 0.0+0.0im  0.0+0.0im  0.0+0.0im     0.0+0.0im  0.0+0.0im  0.0+0.0im\n",
       " 0.0+0.0im  0.0+0.0im  0.0+0.0im     0.0+0.0im  0.0+0.0im  0.0+0.0im\n",
       " 0.0+0.0im  0.0+0.0im  0.0+0.0im     0.0+0.0im  0.0+0.0im  0.0+0.0im\n",
       " 0.0+0.0im  0.0+0.0im  0.0+0.0im  …  0.0+0.0im  0.0+0.0im  0.0+0.0im\n",
       " 0.0+0.0im  0.0+0.0im  0.0+0.0im     0.0+0.0im  0.0+0.0im  0.0+0.0im\n",
       " 0.0+0.0im  0.0+0.0im  0.0+0.0im     0.0+0.0im  0.0+0.0im  0.0+0.0im\n",
       " 0.0+0.0im  0.0+0.0im  0.0+0.0im     0.0+0.0im  0.0+0.0im  0.0+0.0im\n",
       " 0.0+0.0im  0.0+0.0im  0.0+0.0im     0.0+0.0im  0.0+0.0im  0.0+0.0im"
      ]
     },
     "execution_count": 9,
     "metadata": {},
     "output_type": "execute_result"
    }
   ],
   "source": [
    "A = zeros(ComplexF64, 10,10)"
   ]
  },
  {
   "cell_type": "code",
   "execution_count": 10,
   "id": "56d0f196",
   "metadata": {
    "scrolled": true
   },
   "outputs": [
    {
     "data": {
      "text/plain": [
       "10×10 Matrix{ComplexF64}:\n",
       " 1.0+0.0im  1.0+0.0im  1.0+0.0im  …  1.0+0.0im  1.0+0.0im  1.0+0.0im\n",
       " 1.0+0.0im  1.0+0.0im  1.0+0.0im     1.0+0.0im  1.0+0.0im  1.0+0.0im\n",
       " 1.0+0.0im  1.0+0.0im  1.0+0.0im     1.0+0.0im  1.0+0.0im  1.0+0.0im\n",
       " 1.0+0.0im  1.0+0.0im  1.0+0.0im     1.0+0.0im  1.0+0.0im  1.0+0.0im\n",
       " 1.0+0.0im  1.0+0.0im  1.0+0.0im     1.0+0.0im  1.0+0.0im  1.0+0.0im\n",
       " 1.0+0.0im  1.0+0.0im  1.0+0.0im  …  1.0+0.0im  1.0+0.0im  1.0+0.0im\n",
       " 1.0+0.0im  1.0+0.0im  1.0+0.0im     1.0+0.0im  1.0+0.0im  1.0+0.0im\n",
       " 1.0+0.0im  1.0+0.0im  1.0+0.0im     1.0+0.0im  1.0+0.0im  1.0+0.0im\n",
       " 1.0+0.0im  1.0+0.0im  1.0+0.0im     1.0+0.0im  1.0+0.0im  1.0+0.0im\n",
       " 1.0+0.0im  1.0+0.0im  1.0+0.0im     1.0+0.0im  1.0+0.0im  1.0+0.0im"
      ]
     },
     "execution_count": 10,
     "metadata": {},
     "output_type": "execute_result"
    }
   ],
   "source": [
    "A = ones(ComplexF64, 10,10)"
   ]
  },
  {
   "cell_type": "code",
   "execution_count": null,
   "id": "aecda726",
   "metadata": {},
   "outputs": [],
   "source": []
  }
 ],
 "metadata": {
  "kernelspec": {
   "display_name": "Julia 1.7.1",
   "language": "julia",
   "name": "julia-1.7"
  },
  "language_info": {
   "file_extension": ".jl",
   "mimetype": "application/julia",
   "name": "julia",
   "version": "1.7.1"
  }
 },
 "nbformat": 4,
 "nbformat_minor": 5
}
